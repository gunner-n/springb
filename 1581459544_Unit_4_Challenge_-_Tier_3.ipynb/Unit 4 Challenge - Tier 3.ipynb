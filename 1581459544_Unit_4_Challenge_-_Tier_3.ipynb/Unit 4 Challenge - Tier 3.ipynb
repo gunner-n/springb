{
 "cells": [
  {
   "cell_type": "markdown",
   "metadata": {
    "colab_type": "text",
    "id": "Tia3MP1SJpgj"
   },
   "source": [
    "# Springboard Data Science Career Track Unit 4 Challenge - Tier 3 Complete\n",
    "\n",
    "## Objectives\n",
    "Hey! Great job getting through those challenging DataCamp courses. You're learning a lot in a short span of time. \n",
    "\n",
    "In this notebook, you're going to apply the skills you've been learning, bridging the gap between the controlled environment of DataCamp and the *slightly* messier work that data scientists do with actual datasets!\n",
    "\n",
    "Here’s the mystery we’re going to solve: ***which boroughs of London have seen the greatest increase in housing prices, on average, over the last two decades?***\n",
    "\n",
    "\n",
    "A borough is just a fancy word for district. You may be familiar with the five boroughs of New York… well, there are 32 boroughs within Greater London [(here's some info for the curious)](https://en.wikipedia.org/wiki/London_boroughs). Some of them are more desirable areas to live in, and the data will reflect that with a greater rise in housing prices.\n",
    "\n",
    "***This is the Tier 3 notebook, which means it's not filled in at all: we'll just give you the skeleton of a project, the brief and the data. It's up to you to play around with it and see what you can find out! Good luck! If you struggle, feel free to look at easier tiers for help; but try to dip in and out of them, as the more independent work you do, the better it is for your learning!***\n",
    "\n",
    "This challenge will make use of only what you learned in the following DataCamp courses: \n",
    "- Prework courses (Introduction to Python for Data Science, Intermediate Python for Data Science)\n",
    "- Data Types for Data Science\n",
    "- Python Data Science Toolbox (Part One) \n",
    "- pandas Foundations\n",
    "- Manipulating DataFrames with pandas\n",
    "- Merging DataFrames with pandas\n",
    "\n",
    "Of the tools, techniques and concepts in the above DataCamp courses, this challenge should require the application of the following: \n",
    "- **pandas**\n",
    "    - **data ingestion and inspection** (pandas Foundations, Module One) \n",
    "    - **exploratory data analysis** (pandas Foundations, Module Two)\n",
    "    - **tidying and cleaning** (Manipulating DataFrames with pandas, Module Three) \n",
    "    - **transforming DataFrames** (Manipulating DataFrames with pandas, Module One)\n",
    "    - **subsetting DataFrames with lists** (Manipulating DataFrames with pandas, Module One) \n",
    "    - **filtering DataFrames** (Manipulating DataFrames with pandas, Module One) \n",
    "    - **grouping data** (Manipulating DataFrames with pandas, Module Four) \n",
    "    - **melting data** (Manipulating DataFrames with pandas, Module Three) \n",
    "    - **advanced indexing** (Manipulating DataFrames with pandas, Module Four) \n",
    "- **matplotlib** (Intermediate Python for Data Science, Module One)\n",
    "- **fundamental data types** (Data Types for Data Science, Module One) \n",
    "- **dictionaries** (Intermediate Python for Data Science, Module Two)\n",
    "- **handling dates and times** (Data Types for Data Science, Module Four)\n",
    "- **function definition** (Python Data Science Toolbox - Part One, Module One)\n",
    "- **default arguments, variable length, and scope** (Python Data Science Toolbox - Part One, Module Two) \n",
    "- **lambda functions and error handling** (Python Data Science Toolbox - Part One, Module Four) "
   ]
  },
  {
   "cell_type": "markdown",
   "metadata": {
    "colab_type": "text",
    "id": "Ipgd2nV8Jpgl"
   },
   "source": [
    "## The Data Science Pipeline\n",
    "\n",
    "This is Tier Three, so we'll get you started. But after that, it's all in your hands! When you feel done with your investigations, look back over what you've accomplished, and prepare a quick presentation of your findings for the next mentor meeting. \n",
    "\n",
    "Data Science is magical. In this case study, you'll get to apply some complex machine learning algorithms. But as  [David Spiegelhalter](https://www.youtube.com/watch?v=oUs1uvsz0Ok) reminds us, there is no substitute for simply **taking a really, really good look at the data.** Sometimes, this is all we need to answer our question.\n",
    "\n",
    "Data Science projects generally adhere to the four stages of Data Science Pipeline:\n",
    "1. Sourcing and loading \n",
    "2. Cleaning, transforming, and visualizing \n",
    "3. Modeling \n",
    "4. Evaluating and concluding \n"
   ]
  },
  {
   "cell_type": "markdown",
   "metadata": {
    "colab_type": "text",
    "id": "zswDqbefJpgm"
   },
   "source": [
    "### 1. Sourcing and Loading \n",
    "\n",
    "Any Data Science project kicks off by importing  ***pandas***. The documentation of this wonderful library can be found [here](https://pandas.pydata.org/). As you've seen, pandas is conveniently connected to the [Numpy](http://www.numpy.org/) and [Matplotlib](https://matplotlib.org/) libraries. \n",
    "\n",
    "***Hint:*** This part of the data science pipeline will test those skills you acquired in the pandas Foundations course, Module One. "
   ]
  },
  {
   "cell_type": "markdown",
   "metadata": {
    "colab_type": "text",
    "id": "aEau5nEvJpgm"
   },
   "source": [
    "#### 1.1. Importing Libraries"
   ]
  },
  {
   "cell_type": "code",
   "execution_count": 205,
   "metadata": {
    "colab": {},
    "colab_type": "code",
    "id": "7Bt_Q_oPJpgn"
   },
   "outputs": [],
   "source": [
    "# Let's import the pandas, numpy libraries as pd, and np respectively. \n",
    "import pandas as pd\n",
    "import numpy as np\n",
    "\n",
    "# Load the pyplot collection of functions from matplotlib, as plt \n",
    "import matplotlib.pyplot as plt"
   ]
  },
  {
   "cell_type": "markdown",
   "metadata": {
    "colab_type": "text",
    "id": "koUrawxsJpgq"
   },
   "source": [
    "#### 1.2.  Loading the data\n",
    "Your data comes from the [London Datastore](https://data.london.gov.uk/): a free, open-source data-sharing portal for London-oriented datasets. "
   ]
  },
  {
   "cell_type": "code",
   "execution_count": 206,
   "metadata": {
    "colab": {},
    "colab_type": "code",
    "id": "AiLiD4v3Jpgr"
   },
   "outputs": [],
   "source": [
    "# First, make a variable called url_LondonHousePrices, and assign it the following link, enclosed in quotation-marks as a string:\n",
    "# https://data.london.gov.uk/download/uk-house-price-index/70ac0766-8902-4eb5-aab5-01951aaed773/UK%20House%20price%20index.xls\n",
    "\n",
    "url_LondonHousePrices = \"https://data.london.gov.uk/download/uk-house-price-index/70ac0766-8902-4eb5-aab5-01951aaed773/UK%20House%20price%20index.xls\"\n",
    "\n",
    "# The dataset we're interested in contains the Average prices of the houses, and is actually on a particular sheet of the Excel file. \n",
    "# As a result, we need to specify the sheet name in the read_excel() method.\n",
    "# Put this data into a variable called properties.  \n",
    "properties = pd.read_excel(url_LondonHousePrices, sheet_name='Average price', index_col= None)"
   ]
  },
  {
   "cell_type": "markdown",
   "metadata": {
    "colab_type": "text",
    "id": "POukEJXgJpgu"
   },
   "source": [
    "### 2. Cleaning, transforming, and visualizing\n",
    "This second stage is arguably the most important part of any Data Science project. The first thing to do is take a proper look at the data. Cleaning forms the majority of this stage, and can be done both before or after Transformation.\n",
    "\n",
    "The end goal of data cleaning is to have tidy data. When data is tidy: \n",
    "\n",
    "1. Each variable has a column.\n",
    "2. Each observation forms a row.\n",
    "\n",
    "Keep the end goal in mind as you move through this process, every step will take you closer. \n",
    "\n",
    "\n",
    "\n",
    "***Hint:*** This part of the data science pipeline should test those skills you acquired in: \n",
    "- Intermediate Python for data science, all modules.\n",
    "- pandas Foundations, all modules. \n",
    "- Manipulating DataFrames with pandas, all modules.\n",
    "- Data Types for Data Science, Module Four.\n",
    "- Python Data Science Toolbox - Part One, all modules"
   ]
  },
  {
   "cell_type": "markdown",
   "metadata": {
    "colab_type": "text",
    "id": "Te0Q548tnzZa"
   },
   "source": [
    "**2.1. Exploring your data** \n",
    "\n",
    "Think about your pandas functions for checking out a dataframe. "
   ]
  },
  {
   "cell_type": "code",
   "execution_count": 207,
   "metadata": {
    "colab": {},
    "colab_type": "code",
    "collapsed": true,
    "id": "Rxirxw_qoAJa"
   },
   "outputs": [
    {
     "data": {
      "text/html": [
       "<div>\n",
       "<style scoped>\n",
       "    .dataframe tbody tr th:only-of-type {\n",
       "        vertical-align: middle;\n",
       "    }\n",
       "\n",
       "    .dataframe tbody tr th {\n",
       "        vertical-align: top;\n",
       "    }\n",
       "\n",
       "    .dataframe thead th {\n",
       "        text-align: right;\n",
       "    }\n",
       "</style>\n",
       "<table border=\"1\" class=\"dataframe\">\n",
       "  <thead>\n",
       "    <tr style=\"text-align: right;\">\n",
       "      <th></th>\n",
       "      <th>Unnamed: 0</th>\n",
       "      <th>City of London</th>\n",
       "      <th>Barking &amp; Dagenham</th>\n",
       "      <th>Barnet</th>\n",
       "      <th>Bexley</th>\n",
       "      <th>Brent</th>\n",
       "      <th>Bromley</th>\n",
       "      <th>Camden</th>\n",
       "      <th>Croydon</th>\n",
       "      <th>Ealing</th>\n",
       "      <th>...</th>\n",
       "      <th>NORTH WEST</th>\n",
       "      <th>YORKS &amp; THE HUMBER</th>\n",
       "      <th>EAST MIDLANDS</th>\n",
       "      <th>WEST MIDLANDS</th>\n",
       "      <th>EAST OF ENGLAND</th>\n",
       "      <th>LONDON</th>\n",
       "      <th>SOUTH EAST</th>\n",
       "      <th>SOUTH WEST</th>\n",
       "      <th>Unnamed: 47</th>\n",
       "      <th>England</th>\n",
       "    </tr>\n",
       "  </thead>\n",
       "  <tbody>\n",
       "    <tr>\n",
       "      <th>0</th>\n",
       "      <td>NaT</td>\n",
       "      <td>E09000001</td>\n",
       "      <td>E09000002</td>\n",
       "      <td>E09000003</td>\n",
       "      <td>E09000004</td>\n",
       "      <td>E09000005</td>\n",
       "      <td>E09000006</td>\n",
       "      <td>E09000007</td>\n",
       "      <td>E09000008</td>\n",
       "      <td>E09000009</td>\n",
       "      <td>...</td>\n",
       "      <td>E12000002</td>\n",
       "      <td>E12000003</td>\n",
       "      <td>E12000004</td>\n",
       "      <td>E12000005</td>\n",
       "      <td>E12000006</td>\n",
       "      <td>E12000007</td>\n",
       "      <td>E12000008</td>\n",
       "      <td>E12000009</td>\n",
       "      <td>NaN</td>\n",
       "      <td>E92000001</td>\n",
       "    </tr>\n",
       "    <tr>\n",
       "      <th>1</th>\n",
       "      <td>1995-01-01</td>\n",
       "      <td>91448.98487</td>\n",
       "      <td>50460.2266</td>\n",
       "      <td>93284.51832</td>\n",
       "      <td>64958.09036</td>\n",
       "      <td>71306.56698</td>\n",
       "      <td>81671.47692</td>\n",
       "      <td>120932.8881</td>\n",
       "      <td>69158.16225</td>\n",
       "      <td>79885.89069</td>\n",
       "      <td>...</td>\n",
       "      <td>43958.48001</td>\n",
       "      <td>44803.42878</td>\n",
       "      <td>45544.52227</td>\n",
       "      <td>48527.52339</td>\n",
       "      <td>56701.5961</td>\n",
       "      <td>74435.76052</td>\n",
       "      <td>64018.87894</td>\n",
       "      <td>54705.1579</td>\n",
       "      <td>NaN</td>\n",
       "      <td>53202.77128</td>\n",
       "    </tr>\n",
       "    <tr>\n",
       "      <th>2</th>\n",
       "      <td>1995-02-01</td>\n",
       "      <td>82202.77314</td>\n",
       "      <td>51085.77983</td>\n",
       "      <td>93190.16963</td>\n",
       "      <td>64787.92069</td>\n",
       "      <td>72022.26197</td>\n",
       "      <td>81657.55944</td>\n",
       "      <td>119508.8622</td>\n",
       "      <td>68951.09542</td>\n",
       "      <td>80897.06551</td>\n",
       "      <td>...</td>\n",
       "      <td>43925.42289</td>\n",
       "      <td>44528.80721</td>\n",
       "      <td>46051.57066</td>\n",
       "      <td>49341.29029</td>\n",
       "      <td>56593.59475</td>\n",
       "      <td>72777.93709</td>\n",
       "      <td>63715.02399</td>\n",
       "      <td>54356.14843</td>\n",
       "      <td>NaN</td>\n",
       "      <td>53096.1549</td>\n",
       "    </tr>\n",
       "    <tr>\n",
       "      <th>3</th>\n",
       "      <td>1995-03-01</td>\n",
       "      <td>79120.70256</td>\n",
       "      <td>51268.96956</td>\n",
       "      <td>92247.52435</td>\n",
       "      <td>64367.49344</td>\n",
       "      <td>72015.76274</td>\n",
       "      <td>81449.31143</td>\n",
       "      <td>120282.2131</td>\n",
       "      <td>68712.44341</td>\n",
       "      <td>81379.86288</td>\n",
       "      <td>...</td>\n",
       "      <td>44434.8681</td>\n",
       "      <td>45200.46775</td>\n",
       "      <td>45383.82395</td>\n",
       "      <td>49442.17973</td>\n",
       "      <td>56171.18278</td>\n",
       "      <td>73896.84204</td>\n",
       "      <td>64113.60858</td>\n",
       "      <td>53583.07667</td>\n",
       "      <td>NaN</td>\n",
       "      <td>53201.2843</td>\n",
       "    </tr>\n",
       "    <tr>\n",
       "      <th>4</th>\n",
       "      <td>1995-04-01</td>\n",
       "      <td>77101.20804</td>\n",
       "      <td>53133.50526</td>\n",
       "      <td>90762.87492</td>\n",
       "      <td>64277.66881</td>\n",
       "      <td>72965.63094</td>\n",
       "      <td>81124.41227</td>\n",
       "      <td>120097.899</td>\n",
       "      <td>68610.04641</td>\n",
       "      <td>82188.90498</td>\n",
       "      <td>...</td>\n",
       "      <td>44267.7796</td>\n",
       "      <td>45614.34341</td>\n",
       "      <td>46124.23045</td>\n",
       "      <td>49455.93299</td>\n",
       "      <td>56567.89582</td>\n",
       "      <td>74455.28754</td>\n",
       "      <td>64623.22395</td>\n",
       "      <td>54786.01938</td>\n",
       "      <td>NaN</td>\n",
       "      <td>53590.8548</td>\n",
       "    </tr>\n",
       "  </tbody>\n",
       "</table>\n",
       "<p>5 rows × 49 columns</p>\n",
       "</div>"
      ],
      "text/plain": [
       "  Unnamed: 0 City of London Barking & Dagenham       Barnet       Bexley  \\\n",
       "0        NaT      E09000001          E09000002    E09000003    E09000004   \n",
       "1 1995-01-01    91448.98487         50460.2266  93284.51832  64958.09036   \n",
       "2 1995-02-01    82202.77314        51085.77983  93190.16963  64787.92069   \n",
       "3 1995-03-01    79120.70256        51268.96956  92247.52435  64367.49344   \n",
       "4 1995-04-01    77101.20804        53133.50526  90762.87492  64277.66881   \n",
       "\n",
       "         Brent      Bromley       Camden      Croydon       Ealing  ...  \\\n",
       "0    E09000005    E09000006    E09000007    E09000008    E09000009  ...   \n",
       "1  71306.56698  81671.47692  120932.8881  69158.16225  79885.89069  ...   \n",
       "2  72022.26197  81657.55944  119508.8622  68951.09542  80897.06551  ...   \n",
       "3  72015.76274  81449.31143  120282.2131  68712.44341  81379.86288  ...   \n",
       "4  72965.63094  81124.41227   120097.899  68610.04641  82188.90498  ...   \n",
       "\n",
       "    NORTH WEST YORKS & THE HUMBER EAST MIDLANDS WEST MIDLANDS EAST OF ENGLAND  \\\n",
       "0    E12000002          E12000003     E12000004     E12000005       E12000006   \n",
       "1  43958.48001        44803.42878   45544.52227   48527.52339      56701.5961   \n",
       "2  43925.42289        44528.80721   46051.57066   49341.29029     56593.59475   \n",
       "3   44434.8681        45200.46775   45383.82395   49442.17973     56171.18278   \n",
       "4   44267.7796        45614.34341   46124.23045   49455.93299     56567.89582   \n",
       "\n",
       "        LONDON   SOUTH EAST   SOUTH WEST Unnamed: 47      England  \n",
       "0    E12000007    E12000008    E12000009         NaN    E92000001  \n",
       "1  74435.76052  64018.87894   54705.1579         NaN  53202.77128  \n",
       "2  72777.93709  63715.02399  54356.14843         NaN   53096.1549  \n",
       "3  73896.84204  64113.60858  53583.07667         NaN   53201.2843  \n",
       "4  74455.28754  64623.22395  54786.01938         NaN   53590.8548  \n",
       "\n",
       "[5 rows x 49 columns]"
      ]
     },
     "execution_count": 207,
     "metadata": {},
     "output_type": "execute_result"
    }
   ],
   "source": [
    "properties.head()"
   ]
  },
  {
   "cell_type": "markdown",
   "metadata": {
    "colab_type": "text",
    "id": "tE9Sqt9-oAta"
   },
   "source": [
    "**2.2. Cleaning the data**\n",
    "\n",
    "You might find you need to transpose your dataframe, check out what its row indexes are, and reset the index. You  also might find you need to assign the values of the first row to your column headings  . (Hint: recall the .columns feature of DataFrames, as well as the iloc[] method).\n",
    "\n",
    "Don't be afraid to use StackOverflow for help  with this."
   ]
  },
  {
   "cell_type": "code",
   "execution_count": 208,
   "metadata": {
    "colab": {},
    "colab_type": "code",
    "id": "cdAu1A3YoH_r"
   },
   "outputs": [],
   "source": [
    "properties = properties.transpose()"
   ]
  },
  {
   "cell_type": "markdown",
   "metadata": {},
   "source": [
    "<Naman: Here I am just limiting  rows and columns to analyze data in a concise manner."
   ]
  },
  {
   "cell_type": "code",
   "execution_count": 209,
   "metadata": {
    "collapsed": true
   },
   "outputs": [
    {
     "name": "stdout",
     "output_type": "stream",
     "text": [
      "                            0                    1\n",
      "Unnamed: 0                NaT  1995-01-01 00:00:00\n",
      "City of London      E09000001          91448.98487\n",
      "Barking & Dagenham  E09000002           50460.2266\n",
      "Barnet              E09000003          93284.51832\n",
      "Bexley              E09000004          64958.09036\n"
     ]
    }
   ],
   "source": [
    "print(properties.iloc[:5,:2])"
   ]
  },
  {
   "cell_type": "code",
   "execution_count": 210,
   "metadata": {
    "collapsed": true
   },
   "outputs": [
    {
     "data": {
      "text/plain": [
       "Index(['Unnamed: 0', 'City of London', 'Barking & Dagenham', 'Barnet',\n",
       "       'Bexley', 'Brent', 'Bromley', 'Camden', 'Croydon', 'Ealing', 'Enfield',\n",
       "       'Greenwich', 'Hackney', 'Hammersmith & Fulham', 'Haringey', 'Harrow',\n",
       "       'Havering', 'Hillingdon', 'Hounslow', 'Islington',\n",
       "       'Kensington & Chelsea', 'Kingston upon Thames', 'Lambeth', 'Lewisham',\n",
       "       'Merton', 'Newham', 'Redbridge', 'Richmond upon Thames', 'Southwark',\n",
       "       'Sutton', 'Tower Hamlets', 'Waltham Forest', 'Wandsworth',\n",
       "       'Westminster', 'Unnamed: 34', 'Inner London', 'Outer London',\n",
       "       'Unnamed: 37', 'NORTH EAST', 'NORTH WEST', 'YORKS & THE HUMBER',\n",
       "       'EAST MIDLANDS', 'WEST MIDLANDS', 'EAST OF ENGLAND', 'LONDON',\n",
       "       'SOUTH EAST', 'SOUTH WEST', 'Unnamed: 47', 'England'],\n",
       "      dtype='object')"
      ]
     },
     "execution_count": 210,
     "metadata": {},
     "output_type": "execute_result"
    }
   ],
   "source": [
    "properties.index"
   ]
  },
  {
   "cell_type": "code",
   "execution_count": 211,
   "metadata": {},
   "outputs": [],
   "source": [
    "properties  = properties.reset_index()"
   ]
  },
  {
   "cell_type": "markdown",
   "metadata": {
    "colab_type": "text",
    "id": "o1uLbJAsoIjK"
   },
   "source": [
    "**2.3. Cleaning the data (part 2)**\n",
    "\n",
    "You might we have to **rename** a couple columns. How do you do this? The clue's pretty bold..."
   ]
  },
  {
   "cell_type": "code",
   "execution_count": 214,
   "metadata": {
    "colab": {},
    "colab_type": "code",
    "id": "GKkmn1AnoVZS"
   },
   "outputs": [],
   "source": [
    "properties.columns = properties.iloc[0]"
   ]
  },
  {
   "cell_type": "code",
   "execution_count": 215,
   "metadata": {},
   "outputs": [],
   "source": [
    "properties = properties[1:]"
   ]
  },
  {
   "cell_type": "code",
   "execution_count": 217,
   "metadata": {
    "collapsed": true
   },
   "outputs": [
    {
     "name": "stdout",
     "output_type": "stream",
     "text": [
      "0             Unnamed: 0        NaT 1995-01-01 00:00:00 1995-02-01 00:00:00  \\\n",
      "1         City of London  E09000001         91448.98487         82202.77314   \n",
      "2     Barking & Dagenham  E09000002          50460.2266         51085.77983   \n",
      "3                 Barnet  E09000003         93284.51832         93190.16963   \n",
      "4                 Bexley  E09000004         64958.09036         64787.92069   \n",
      "5                  Brent  E09000005         71306.56698         72022.26197   \n",
      "6                Bromley  E09000006         81671.47692         81657.55944   \n",
      "7                 Camden  E09000007         120932.8881         119508.8622   \n",
      "8                Croydon  E09000008         69158.16225         68951.09542   \n",
      "9                 Ealing  E09000009         79885.89069         80897.06551   \n",
      "10               Enfield  E09000010         72514.69096         73155.19746   \n",
      "11             Greenwich  E09000011         62300.10169         60993.26863   \n",
      "12               Hackney  E09000012         61296.52637         63187.08332   \n",
      "13  Hammersmith & Fulham  E09000013         124902.8602          122087.718   \n",
      "14              Haringey  E09000014         76287.56947         78901.21036   \n",
      "15                Harrow  E09000015         84769.52599         83396.10525   \n",
      "16              Havering  E09000016         68000.13774         69393.51294   \n",
      "17            Hillingdon  E09000017         73834.82964          75031.0696   \n",
      "18              Hounslow  E09000018         72231.70537         71051.55852   \n",
      "19             Islington  E09000019         92516.48557         94342.37334   \n",
      "20  Kensington & Chelsea  E09000020         182694.8326         182345.2463   \n",
      "21  Kingston upon Thames  E09000021         80875.84843         81230.13524   \n",
      "22               Lambeth  E09000022         67770.98843         65381.51908   \n",
      "23              Lewisham  E09000023         60491.26109         60869.27091   \n",
      "24                Merton  E09000024          82070.6133         79982.74872   \n",
      "25                Newham  E09000025         53539.31919         53153.88306   \n",
      "26             Redbridge  E09000026         72189.58437          72141.6261   \n",
      "27  Richmond upon Thames  E09000027         109326.1245         111103.0394   \n",
      "28             Southwark  E09000028         67885.20344          64799.0648   \n",
      "29                Sutton  E09000029         71536.97357         70893.20851   \n",
      "30         Tower Hamlets  E09000030         59865.18995         62318.53353   \n",
      "31        Waltham Forest  E09000031         61319.44913         60252.12246   \n",
      "32            Wandsworth  E09000032         88559.04381         88641.01678   \n",
      "33           Westminster  E09000033         133025.2772         131468.3096   \n",
      "38            NORTH EAST  E12000001         42076.35411         42571.98949   \n",
      "39            NORTH WEST  E12000002         43958.48001         43925.42289   \n",
      "40    YORKS & THE HUMBER  E12000003         44803.42878         44528.80721   \n",
      "41         EAST MIDLANDS  E12000004         45544.52227         46051.57066   \n",
      "42         WEST MIDLANDS  E12000005         48527.52339         49341.29029   \n",
      "43       EAST OF ENGLAND  E12000006          56701.5961         56593.59475   \n",
      "44                LONDON  E12000007         74435.76052         72777.93709   \n",
      "45            SOUTH EAST  E12000008         64018.87894         63715.02399   \n",
      "46            SOUTH WEST  E12000009          54705.1579         54356.14843   \n",
      "35          Inner London  E13000001          78251.9765         75885.70201   \n",
      "36          Outer London  E13000002         72958.79836         72937.88262   \n",
      "48               England  E92000001         53202.77128          53096.1549   \n",
      "34           Unnamed: 34        NaN                 NaN                 NaN   \n",
      "37           Unnamed: 37        NaN                 NaN                 NaN   \n",
      "47           Unnamed: 47        NaN                 NaN                 NaN   \n",
      "\n",
      "0  1995-03-01 00:00:00 1995-04-01 00:00:00 1995-05-01 00:00:00  \\\n",
      "1          79120.70256         77101.20804         84409.14932   \n",
      "2          51268.96956         53133.50526         53042.24852   \n",
      "3          92247.52435         90762.87492         90258.00033   \n",
      "4          64367.49344         64277.66881         63997.13588   \n",
      "5          72015.76274         72965.63094         73704.04743   \n",
      "6          81449.31143         81124.41227         81542.61561   \n",
      "7          120282.2131          120097.899         119929.2782   \n",
      "8          68712.44341         68610.04641          68844.9169   \n",
      "9          81379.86288         82188.90498         82077.05525   \n",
      "10         72190.44144         71442.92235         70630.77955   \n",
      "11         61377.83464          61927.7246         63512.99103   \n",
      "12         63593.29935         65139.64403         66193.99212   \n",
      "13         120635.9467         121424.6241          124433.539   \n",
      "14         78521.94855         79545.57477          79374.0349   \n",
      "15         83416.23759         83567.88439         83853.65615   \n",
      "16         69368.02407         69444.26215         68534.52248   \n",
      "17         74188.66949         73911.40591         73117.12416   \n",
      "18         72097.99411         71890.28339         72877.47219   \n",
      "19         93465.86407         93344.49305         94346.39917   \n",
      "20         182878.8231         184176.9168         191474.1141   \n",
      "21         81111.48848         81672.80476         82123.51084   \n",
      "22         66336.51868          66388.7716         69035.11076   \n",
      "23         60288.03002         59471.03136         58551.38387   \n",
      "24         80661.68279         79990.54333         80873.98643   \n",
      "25         53458.26393         54479.75395         55803.95958   \n",
      "26         72501.35502         72228.60295         72366.64122   \n",
      "27         107325.4742              106875         107707.6799   \n",
      "28         65763.29719         63073.62117         64420.49933   \n",
      "29         70306.83844          69411.9439         69759.21989   \n",
      "30         63938.67686         66233.19383         66432.85846   \n",
      "31         60871.08493         60971.39722         61494.16938   \n",
      "32         87124.81523         87026.00225         86518.05945   \n",
      "33         132260.3417         133370.2036         133911.1117   \n",
      "38         42369.72984          42095.8436         43266.45165   \n",
      "39          44434.8681          44267.7796         44223.61973   \n",
      "40         45200.46775         45614.34341         44830.98563   \n",
      "41         45383.82395         46124.23045         45878.00396   \n",
      "42         49442.17973         49455.93299         50369.66188   \n",
      "43         56171.18278         56567.89582         56479.80183   \n",
      "44         73896.84204         74455.28754         75432.02786   \n",
      "45         64113.60858         64623.22395         64530.36358   \n",
      "46         53583.07667         54786.01938         54698.83831   \n",
      "35         76591.59947         76851.56697         79129.19443   \n",
      "36         72714.53478         72591.92469         72752.99414   \n",
      "48          53201.2843          53590.8548         53678.24041   \n",
      "34                 NaN                 NaN                 NaN   \n",
      "37                 NaN                 NaN                 NaN   \n",
      "47                 NaN                 NaN                 NaN   \n",
      "\n",
      "0  1995-06-01 00:00:00 1995-07-01 00:00:00 1995-08-01 00:00:00  ...  \\\n",
      "1          94900.51244         110128.0423         112329.4376  ...   \n",
      "2          53700.34831         52113.12157         52232.19868  ...   \n",
      "3          90107.23471         91441.24768         92361.31512  ...   \n",
      "4          64252.32335         63722.70055         64432.60005  ...   \n",
      "5          74310.48167         74127.03788          73547.0411  ...   \n",
      "6          82382.83435         82898.52264         82054.37156  ...   \n",
      "7          121887.4625         124027.5768         125529.8039  ...   \n",
      "8          69052.51103         69142.48112         68993.42545  ...   \n",
      "9          81630.66181          82352.2226         82706.65927  ...   \n",
      "10         71348.31147         71837.54011         72237.94562  ...   \n",
      "11         64751.56404         65486.34112         65076.43195  ...   \n",
      "12         66921.17101           68390.753         68096.79385  ...   \n",
      "13         126175.1513         124381.5134         123625.3196  ...   \n",
      "14          79956.3621         80746.34881         81217.69074  ...   \n",
      "15         84173.24689         84226.69844         84430.61796  ...   \n",
      "16         68464.60664         68680.83996         69023.36482  ...   \n",
      "17         74005.00585         74671.13263         74967.86534  ...   \n",
      "18         72331.08116         73717.78844         74479.94802  ...   \n",
      "19         97428.94311         98976.14077         98951.20791  ...   \n",
      "20         197265.7602         197963.3169         198037.4218  ...   \n",
      "21         82205.66822           82525.793         83342.84552  ...   \n",
      "22         68881.15764         69608.72242         68840.02827  ...   \n",
      "23         58041.43543         58126.37811          58151.3154  ...   \n",
      "24         80704.92667         81055.90335         80781.09186  ...   \n",
      "25         56067.76986         55458.31693         54709.35467  ...   \n",
      "26          72279.4325         72880.83974         73275.16891  ...   \n",
      "27         112865.0542         114656.6011         112320.4096  ...   \n",
      "28         64155.81449         67024.74767         65525.94434  ...   \n",
      "29         70125.24728         70789.57284         69958.41918  ...   \n",
      "30         66232.16372         64692.22672         63472.27558  ...   \n",
      "31         61547.79643         61933.52738          61916.4222  ...   \n",
      "32          88114.3351         89830.58934         90560.68078  ...   \n",
      "33         134562.1941         133450.2162         136581.5082  ...   \n",
      "38         42315.34372         43287.74323         41899.05494  ...   \n",
      "39         44112.96432         44109.58764         44193.66583  ...   \n",
      "40         45392.63981         45534.99864         45111.45939  ...   \n",
      "41         45679.99539         46037.67312         45922.53585  ...   \n",
      "42         50100.43023         49860.00809         49598.45969  ...   \n",
      "43         56288.94557         57242.30186         56732.40547  ...   \n",
      "44         75606.24501         75984.24079         75529.34488  ...   \n",
      "45           65511.008         65224.88465         64851.60429  ...   \n",
      "46         54420.15939         54265.86368         54365.71495  ...   \n",
      "35          79969.1525         80550.47935         80597.64563  ...   \n",
      "36         73189.39978         73665.90517         73691.12888  ...   \n",
      "48         53735.15475         53900.60633         53600.31975  ...   \n",
      "34                 NaN                 NaN                 NaN  ...   \n",
      "37                 NaN                 NaN                 NaN  ...   \n",
      "47                 NaN                 NaN                 NaN  ...   \n",
      "\n",
      "0  2022-06-01 00:00:00 2022-07-01 00:00:00 2022-08-01 00:00:00  \\\n",
      "1         817584.33516        823678.42301         851508.9627   \n",
      "2         344211.58225        349019.74947        350684.93126   \n",
      "3         587652.57456        589491.91507        600983.25425   \n",
      "4         388882.93861        394022.89593        400356.86436   \n",
      "5          534878.8481        550730.29995        559692.69097   \n",
      "6         501107.66374        504675.52547         511066.6236   \n",
      "7         841044.15859          846326.231         857716.4679   \n",
      "8         412845.69956        417626.39953        424871.81831   \n",
      "9         524534.40914        534031.36889        537325.81287   \n",
      "10        446632.68397        447544.43256        451030.00563   \n",
      "11        428669.36738         432128.3943        432556.73688   \n",
      "12        614303.45088         632167.4101         648928.6584   \n",
      "13        770286.13323        792626.76674        815368.91419   \n",
      "14        582304.01586         588798.1811        595400.08899   \n",
      "15        513820.58145        528803.35904        530636.01078   \n",
      "16         420750.8564        421724.52787        423336.52719   \n",
      "17        452921.15074        457389.43646        461281.04492   \n",
      "18        445855.82654        450886.89418         454919.7984   \n",
      "19        712684.64275        705531.30884        721006.33553   \n",
      "20        1507797.6134        1503967.3492        1511391.3818   \n",
      "21        530815.29275        549900.71569        552661.34277   \n",
      "22        543735.80746        552471.52473        558916.56383   \n",
      "23        449602.02894        459217.84998        468301.81185   \n",
      "24        565891.53673        575499.03351        580403.69277   \n",
      "25        406366.79208        416318.62023        412936.40118   \n",
      "26        463870.48405        469626.60955        484922.51404   \n",
      "27        756492.03976        743443.70255        765264.42451   \n",
      "28        539660.70575        548870.14694        553662.97245   \n",
      "29        431187.01293        436295.34721        440056.43312   \n",
      "30        469275.06034        473863.16209        472954.12739   \n",
      "31        495260.74193        508768.09186        522109.95212   \n",
      "32        627720.80392         629399.1017        647748.05385   \n",
      "33        984093.11591        982684.71947        1005610.6478   \n",
      "38        153958.25795        159719.17725        160183.73569   \n",
      "39        208738.19625        214358.70689        215488.27676   \n",
      "40         203553.4005        208035.97166        209403.55101   \n",
      "41        243454.84203        245736.64852        250266.05395   \n",
      "42        243187.51337        250757.19973        251486.76996   \n",
      "43        347881.37291        353264.57016        357393.42903   \n",
      "44        531251.10494         540180.5277        544347.36386   \n",
      "45        387122.73088        393493.15335        397524.95608   \n",
      "46           319818.47        327986.32785        333589.04072   \n",
      "35        615246.46956        622596.86787        632275.98368   \n",
      "36        478953.43466        484432.04544        490692.63805   \n",
      "48        301262.04162         307593.5517        310564.23425   \n",
      "34                 NaN                 NaN                 NaN   \n",
      "37                 NaN                 NaN                 NaN   \n",
      "47                 NaN                 NaN                 NaN   \n",
      "\n",
      "0  2022-09-01 00:00:00 2022-10-01 00:00:00 2022-11-01 00:00:00  \\\n",
      "1         848510.48104        876104.51684        948498.14532   \n",
      "2         350132.29415        351786.71213        355142.44959   \n",
      "3         605828.46908        605053.28709        596174.87369   \n",
      "4          402704.6993        407097.04931        405578.41451   \n",
      "5          578082.6615        570146.90413        566137.79926   \n",
      "6         514012.49363        518055.17793        516784.53616   \n",
      "7         857549.00219        849583.21332        841969.19901   \n",
      "8         431992.82135         433165.2843        431571.63981   \n",
      "9         538647.49614        536931.76299        537877.30403   \n",
      "10        454191.72852        461586.81217        461869.93266   \n",
      "11        440630.07132        442645.96038        442699.19609   \n",
      "12        652742.03478        651335.97357        648108.45822   \n",
      "13        811484.22453          787755.559        755638.81116   \n",
      "14        613031.98526         611033.1691        618256.08323   \n",
      "15        531067.73417         526672.6202        526601.65133   \n",
      "16        428603.77238        429718.65759        435852.30378   \n",
      "17        466411.46492         471639.6504        473701.01572   \n",
      "18        458011.68328        459228.10716        460552.00187   \n",
      "19        735940.11351        733108.05359        712883.25949   \n",
      "20        1521297.0461        1400152.4733        1362625.6317   \n",
      "21        563766.38044        566375.23416        563158.65341   \n",
      "22        563750.81107        557626.50793        554092.80322   \n",
      "23        463621.90285         462234.4674        464019.56116   \n",
      "24        583520.97012        575372.36723        578948.78851   \n",
      "25        414473.49613        418363.35996        423902.76066   \n",
      "26        485765.04466        484212.99329        484283.01046   \n",
      "27        766973.38537        768807.37263        753362.84565   \n",
      "28        557823.59067        553701.53997        560206.36232   \n",
      "29        441368.34249        440485.10823        442482.09746   \n",
      "30         481438.5938        484970.86419        487296.41899   \n",
      "31        523706.52825        525291.55963        517339.39423   \n",
      "32        656758.10669        653374.20553        641216.14038   \n",
      "33        989302.77342        974714.42027        964363.57199   \n",
      "38        160921.86888        161883.77148         162435.7642   \n",
      "39         217017.9437        217615.04662        218935.32317   \n",
      "40        210841.83822        211478.20361        211921.38692   \n",
      "41        250671.65075         250255.4823        252080.82037   \n",
      "42        252624.08749        253974.70028        252960.28591   \n",
      "43        358799.92404        358465.73201        360934.74449   \n",
      "44        544323.00575        536843.36046        538392.44079   \n",
      "45         399095.2791        399147.23901        397798.32998   \n",
      "46        334438.31647        333796.38639        334960.66933   \n",
      "35        636786.51268        630883.12036        626670.45601   \n",
      "36        494940.22204        496036.38656        495088.66583   \n",
      "48        311770.73681        311569.89762        312310.54811   \n",
      "34                 NaN                 NaN                 NaN   \n",
      "37                 NaN                 NaN                 NaN   \n",
      "47                 NaN                 NaN                 NaN   \n",
      "\n",
      "0  2022-12-01 00:00:00 2023-01-01 00:00:00 2023-02-01 00:00:00  \\\n",
      "1         926673.83411        940537.50192        843218.92839   \n",
      "2         355179.19508        351542.56074        344353.00525   \n",
      "3         601033.77667        603902.88471        608829.39401   \n",
      "4         406911.68217        399736.46196        400814.17362   \n",
      "5         559407.13925        556501.11179        543974.33399   \n",
      "6         515353.44676        512958.79297        507679.41921   \n",
      "7         846067.28453        837903.50463        849430.89109   \n",
      "8         429633.26647         429380.3991         425087.4219   \n",
      "9         543022.89254          540499.256        546174.65036   \n",
      "10        463169.43225        455867.86636        450485.26844   \n",
      "11        434663.35323        436102.65319        446006.14521   \n",
      "12        631949.00109        632032.50227        632521.24794   \n",
      "13        738220.25594         764821.2583        755397.60719   \n",
      "14        608688.32429        602503.69167         585525.4876   \n",
      "15        525641.82176        525914.36086        520974.13358   \n",
      "16        438012.24914          435833.788        434409.12611   \n",
      "17         468440.4252        465667.45548         462178.2849   \n",
      "18        453840.99954        464524.80546          470170.504   \n",
      "19        697771.90341        685864.09749        675930.62849   \n",
      "20         1273172.208        1325220.6118         1304437.851   \n",
      "21        560833.86724         564847.7774        566974.18714   \n",
      "22        549500.54845        550284.49729        550924.04374   \n",
      "23        471076.80214        467469.65638        464548.30313   \n",
      "24        574425.31145        573795.75679        577740.66214   \n",
      "25        424186.44923        424805.61449        418435.07062   \n",
      "26        488430.61124        485140.05357        477294.95069   \n",
      "27        742299.10745        746337.60181        757652.92564   \n",
      "28        555852.69533        561367.83578        544876.45839   \n",
      "29        438854.57478        445105.97171        442111.98468   \n",
      "30        494502.32933        495244.92724         504495.9972   \n",
      "31        515731.37121        511878.39078        514451.90726   \n",
      "32        637268.78259        636328.37863        637179.47281   \n",
      "33        962444.46307        957716.96934        933770.89106   \n",
      "38        160640.16574        162565.54321        159502.79351   \n",
      "39        217633.10759        214764.63061        214606.76769   \n",
      "40        211688.77595        206599.51988         208019.7941   \n",
      "41        254046.18056        251140.23106        249021.06436   \n",
      "42        255037.71202        252620.95739        255317.94332   \n",
      "43         359104.2861        355374.25393        359067.60596   \n",
      "44        536553.21864         535954.0311        532115.04698   \n",
      "45        400323.77759        397487.12604        395999.20563   \n",
      "46        329052.34807        328410.95501        327838.74453   \n",
      "35        621748.43328        622691.37123        617784.76063   \n",
      "36        493602.31604        492732.42821        492049.90171   \n",
      "48        311716.80288        309096.77843        308921.23303   \n",
      "34                 NaN                 NaN                 NaN   \n",
      "37                 NaN                 NaN                 NaN   \n",
      "47                 NaN                 NaN                 NaN   \n",
      "\n",
      "0  2023-03-01 00:00:00  \n",
      "1           896600.654  \n",
      "2         346945.70957  \n",
      "3         598272.26714  \n",
      "4         403022.84703  \n",
      "5         530399.91639  \n",
      "6         504736.09635  \n",
      "7         844260.67078  \n",
      "8         417018.84663  \n",
      "9           526845.035  \n",
      "10        444670.45894  \n",
      "11        447837.11469  \n",
      "12        642056.68738  \n",
      "13         756945.3612  \n",
      "14        586161.75788  \n",
      "15        519185.46709  \n",
      "16        428208.85653  \n",
      "17        457232.97311  \n",
      "18        468641.32106  \n",
      "19        672030.44295  \n",
      "20        1315897.2943  \n",
      "21        566459.84998  \n",
      "22        555696.06829  \n",
      "23        457263.65488  \n",
      "24        574976.52498  \n",
      "25        406294.62854  \n",
      "26        474955.78896  \n",
      "27         758649.2363  \n",
      "28        541613.43549  \n",
      "29        440571.84598  \n",
      "30        510061.69584  \n",
      "31        508473.95519  \n",
      "32        629588.44011  \n",
      "33        875883.26304  \n",
      "38        156912.22566  \n",
      "39        211758.91766  \n",
      "40        203634.58556  \n",
      "41        246091.61463  \n",
      "42        245132.02478  \n",
      "43        351897.69223  \n",
      "44        523325.49157  \n",
      "45        394542.64548  \n",
      "46        326035.38598  \n",
      "35        613503.97523  \n",
      "36        487640.84904  \n",
      "48        304193.21465  \n",
      "34                 NaN  \n",
      "37                 NaN  \n",
      "47                 NaN  \n",
      "\n",
      "[48 rows x 341 columns]\n"
     ]
    }
   ],
   "source": [
    "print(properties.sort_values(properties.columns[1]))"
   ]
  },
  {
   "cell_type": "code",
   "execution_count": 218,
   "metadata": {},
   "outputs": [
    {
     "name": "stdout",
     "output_type": "stream",
     "text": [
      "NaT\n"
     ]
    }
   ],
   "source": [
    "print(properties.columns[1])"
   ]
  },
  {
   "cell_type": "code",
   "execution_count": 219,
   "metadata": {
    "collapsed": true
   },
   "outputs": [
    {
     "data": {
      "text/html": [
       "<div>\n",
       "<style scoped>\n",
       "    .dataframe tbody tr th:only-of-type {\n",
       "        vertical-align: middle;\n",
       "    }\n",
       "\n",
       "    .dataframe tbody tr th {\n",
       "        vertical-align: top;\n",
       "    }\n",
       "\n",
       "    .dataframe thead th {\n",
       "        text-align: right;\n",
       "    }\n",
       "</style>\n",
       "<table border=\"1\" class=\"dataframe\">\n",
       "  <thead>\n",
       "    <tr style=\"text-align: right;\">\n",
       "      <th></th>\n",
       "      <th>Unnamed: 0</th>\n",
       "      <th>NaT</th>\n",
       "      <th>1995-01-01 00:00:00</th>\n",
       "      <th>1995-02-01 00:00:00</th>\n",
       "      <th>1995-03-01 00:00:00</th>\n",
       "      <th>1995-04-01 00:00:00</th>\n",
       "      <th>1995-05-01 00:00:00</th>\n",
       "      <th>1995-06-01 00:00:00</th>\n",
       "      <th>1995-07-01 00:00:00</th>\n",
       "      <th>1995-08-01 00:00:00</th>\n",
       "      <th>...</th>\n",
       "      <th>2022-06-01 00:00:00</th>\n",
       "      <th>2022-07-01 00:00:00</th>\n",
       "      <th>2022-08-01 00:00:00</th>\n",
       "      <th>2022-09-01 00:00:00</th>\n",
       "      <th>2022-10-01 00:00:00</th>\n",
       "      <th>2022-11-01 00:00:00</th>\n",
       "      <th>2022-12-01 00:00:00</th>\n",
       "      <th>2023-01-01 00:00:00</th>\n",
       "      <th>2023-02-01 00:00:00</th>\n",
       "      <th>2023-03-01 00:00:00</th>\n",
       "    </tr>\n",
       "  </thead>\n",
       "  <tbody>\n",
       "    <tr>\n",
       "      <th>1</th>\n",
       "      <td>City of London</td>\n",
       "      <td>E09000001</td>\n",
       "      <td>91448.98487</td>\n",
       "      <td>82202.77314</td>\n",
       "      <td>79120.70256</td>\n",
       "      <td>77101.20804</td>\n",
       "      <td>84409.14932</td>\n",
       "      <td>94900.51244</td>\n",
       "      <td>110128.0423</td>\n",
       "      <td>112329.4376</td>\n",
       "      <td>...</td>\n",
       "      <td>817584.33516</td>\n",
       "      <td>823678.42301</td>\n",
       "      <td>851508.9627</td>\n",
       "      <td>848510.48104</td>\n",
       "      <td>876104.51684</td>\n",
       "      <td>948498.14532</td>\n",
       "      <td>926673.83411</td>\n",
       "      <td>940537.50192</td>\n",
       "      <td>843218.92839</td>\n",
       "      <td>896600.654</td>\n",
       "    </tr>\n",
       "    <tr>\n",
       "      <th>2</th>\n",
       "      <td>Barking &amp; Dagenham</td>\n",
       "      <td>E09000002</td>\n",
       "      <td>50460.2266</td>\n",
       "      <td>51085.77983</td>\n",
       "      <td>51268.96956</td>\n",
       "      <td>53133.50526</td>\n",
       "      <td>53042.24852</td>\n",
       "      <td>53700.34831</td>\n",
       "      <td>52113.12157</td>\n",
       "      <td>52232.19868</td>\n",
       "      <td>...</td>\n",
       "      <td>344211.58225</td>\n",
       "      <td>349019.74947</td>\n",
       "      <td>350684.93126</td>\n",
       "      <td>350132.29415</td>\n",
       "      <td>351786.71213</td>\n",
       "      <td>355142.44959</td>\n",
       "      <td>355179.19508</td>\n",
       "      <td>351542.56074</td>\n",
       "      <td>344353.00525</td>\n",
       "      <td>346945.70957</td>\n",
       "    </tr>\n",
       "    <tr>\n",
       "      <th>3</th>\n",
       "      <td>Barnet</td>\n",
       "      <td>E09000003</td>\n",
       "      <td>93284.51832</td>\n",
       "      <td>93190.16963</td>\n",
       "      <td>92247.52435</td>\n",
       "      <td>90762.87492</td>\n",
       "      <td>90258.00033</td>\n",
       "      <td>90107.23471</td>\n",
       "      <td>91441.24768</td>\n",
       "      <td>92361.31512</td>\n",
       "      <td>...</td>\n",
       "      <td>587652.57456</td>\n",
       "      <td>589491.91507</td>\n",
       "      <td>600983.25425</td>\n",
       "      <td>605828.46908</td>\n",
       "      <td>605053.28709</td>\n",
       "      <td>596174.87369</td>\n",
       "      <td>601033.77667</td>\n",
       "      <td>603902.88471</td>\n",
       "      <td>608829.39401</td>\n",
       "      <td>598272.26714</td>\n",
       "    </tr>\n",
       "    <tr>\n",
       "      <th>4</th>\n",
       "      <td>Bexley</td>\n",
       "      <td>E09000004</td>\n",
       "      <td>64958.09036</td>\n",
       "      <td>64787.92069</td>\n",
       "      <td>64367.49344</td>\n",
       "      <td>64277.66881</td>\n",
       "      <td>63997.13588</td>\n",
       "      <td>64252.32335</td>\n",
       "      <td>63722.70055</td>\n",
       "      <td>64432.60005</td>\n",
       "      <td>...</td>\n",
       "      <td>388882.93861</td>\n",
       "      <td>394022.89593</td>\n",
       "      <td>400356.86436</td>\n",
       "      <td>402704.6993</td>\n",
       "      <td>407097.04931</td>\n",
       "      <td>405578.41451</td>\n",
       "      <td>406911.68217</td>\n",
       "      <td>399736.46196</td>\n",
       "      <td>400814.17362</td>\n",
       "      <td>403022.84703</td>\n",
       "    </tr>\n",
       "    <tr>\n",
       "      <th>5</th>\n",
       "      <td>Brent</td>\n",
       "      <td>E09000005</td>\n",
       "      <td>71306.56698</td>\n",
       "      <td>72022.26197</td>\n",
       "      <td>72015.76274</td>\n",
       "      <td>72965.63094</td>\n",
       "      <td>73704.04743</td>\n",
       "      <td>74310.48167</td>\n",
       "      <td>74127.03788</td>\n",
       "      <td>73547.0411</td>\n",
       "      <td>...</td>\n",
       "      <td>534878.8481</td>\n",
       "      <td>550730.29995</td>\n",
       "      <td>559692.69097</td>\n",
       "      <td>578082.6615</td>\n",
       "      <td>570146.90413</td>\n",
       "      <td>566137.79926</td>\n",
       "      <td>559407.13925</td>\n",
       "      <td>556501.11179</td>\n",
       "      <td>543974.33399</td>\n",
       "      <td>530399.91639</td>\n",
       "    </tr>\n",
       "  </tbody>\n",
       "</table>\n",
       "<p>5 rows × 341 columns</p>\n",
       "</div>"
      ],
      "text/plain": [
       "0          Unnamed: 0        NaT 1995-01-01 00:00:00 1995-02-01 00:00:00  \\\n",
       "1      City of London  E09000001         91448.98487         82202.77314   \n",
       "2  Barking & Dagenham  E09000002          50460.2266         51085.77983   \n",
       "3              Barnet  E09000003         93284.51832         93190.16963   \n",
       "4              Bexley  E09000004         64958.09036         64787.92069   \n",
       "5               Brent  E09000005         71306.56698         72022.26197   \n",
       "\n",
       "0 1995-03-01 00:00:00 1995-04-01 00:00:00 1995-05-01 00:00:00  \\\n",
       "1         79120.70256         77101.20804         84409.14932   \n",
       "2         51268.96956         53133.50526         53042.24852   \n",
       "3         92247.52435         90762.87492         90258.00033   \n",
       "4         64367.49344         64277.66881         63997.13588   \n",
       "5         72015.76274         72965.63094         73704.04743   \n",
       "\n",
       "0 1995-06-01 00:00:00 1995-07-01 00:00:00 1995-08-01 00:00:00  ...  \\\n",
       "1         94900.51244         110128.0423         112329.4376  ...   \n",
       "2         53700.34831         52113.12157         52232.19868  ...   \n",
       "3         90107.23471         91441.24768         92361.31512  ...   \n",
       "4         64252.32335         63722.70055         64432.60005  ...   \n",
       "5         74310.48167         74127.03788          73547.0411  ...   \n",
       "\n",
       "0 2022-06-01 00:00:00 2022-07-01 00:00:00 2022-08-01 00:00:00  \\\n",
       "1        817584.33516        823678.42301         851508.9627   \n",
       "2        344211.58225        349019.74947        350684.93126   \n",
       "3        587652.57456        589491.91507        600983.25425   \n",
       "4        388882.93861        394022.89593        400356.86436   \n",
       "5         534878.8481        550730.29995        559692.69097   \n",
       "\n",
       "0 2022-09-01 00:00:00 2022-10-01 00:00:00 2022-11-01 00:00:00  \\\n",
       "1        848510.48104        876104.51684        948498.14532   \n",
       "2        350132.29415        351786.71213        355142.44959   \n",
       "3        605828.46908        605053.28709        596174.87369   \n",
       "4         402704.6993        407097.04931        405578.41451   \n",
       "5         578082.6615        570146.90413        566137.79926   \n",
       "\n",
       "0 2022-12-01 00:00:00 2023-01-01 00:00:00 2023-02-01 00:00:00  \\\n",
       "1        926673.83411        940537.50192        843218.92839   \n",
       "2        355179.19508        351542.56074        344353.00525   \n",
       "3        601033.77667        603902.88471        608829.39401   \n",
       "4        406911.68217        399736.46196        400814.17362   \n",
       "5        559407.13925        556501.11179        543974.33399   \n",
       "\n",
       "0 2023-03-01 00:00:00  \n",
       "1          896600.654  \n",
       "2        346945.70957  \n",
       "3        598272.26714  \n",
       "4        403022.84703  \n",
       "5        530399.91639  \n",
       "\n",
       "[5 rows x 341 columns]"
      ]
     },
     "execution_count": 219,
     "metadata": {},
     "output_type": "execute_result"
    }
   ],
   "source": [
    "properties.head()"
   ]
  },
  {
   "cell_type": "code",
   "execution_count": 220,
   "metadata": {
    "collapsed": true
   },
   "outputs": [
    {
     "data": {
      "text/html": [
       "<div>\n",
       "<style scoped>\n",
       "    .dataframe tbody tr th:only-of-type {\n",
       "        vertical-align: middle;\n",
       "    }\n",
       "\n",
       "    .dataframe tbody tr th {\n",
       "        vertical-align: top;\n",
       "    }\n",
       "\n",
       "    .dataframe thead th {\n",
       "        text-align: right;\n",
       "    }\n",
       "</style>\n",
       "<table border=\"1\" class=\"dataframe\">\n",
       "  <thead>\n",
       "    <tr style=\"text-align: right;\">\n",
       "      <th></th>\n",
       "      <th>borough</th>\n",
       "      <th>Col1</th>\n",
       "      <th>1995-01-01 00:00:00</th>\n",
       "      <th>1995-02-01 00:00:00</th>\n",
       "      <th>1995-03-01 00:00:00</th>\n",
       "      <th>1995-04-01 00:00:00</th>\n",
       "      <th>1995-05-01 00:00:00</th>\n",
       "      <th>1995-06-01 00:00:00</th>\n",
       "      <th>1995-07-01 00:00:00</th>\n",
       "      <th>1995-08-01 00:00:00</th>\n",
       "      <th>...</th>\n",
       "      <th>2022-06-01 00:00:00</th>\n",
       "      <th>2022-07-01 00:00:00</th>\n",
       "      <th>2022-08-01 00:00:00</th>\n",
       "      <th>2022-09-01 00:00:00</th>\n",
       "      <th>2022-10-01 00:00:00</th>\n",
       "      <th>2022-11-01 00:00:00</th>\n",
       "      <th>2022-12-01 00:00:00</th>\n",
       "      <th>2023-01-01 00:00:00</th>\n",
       "      <th>2023-02-01 00:00:00</th>\n",
       "      <th>2023-03-01 00:00:00</th>\n",
       "    </tr>\n",
       "  </thead>\n",
       "  <tbody>\n",
       "    <tr>\n",
       "      <th>1</th>\n",
       "      <td>City of London</td>\n",
       "      <td>E09000001</td>\n",
       "      <td>91448.98487</td>\n",
       "      <td>82202.77314</td>\n",
       "      <td>79120.70256</td>\n",
       "      <td>77101.20804</td>\n",
       "      <td>84409.14932</td>\n",
       "      <td>94900.51244</td>\n",
       "      <td>110128.0423</td>\n",
       "      <td>112329.4376</td>\n",
       "      <td>...</td>\n",
       "      <td>817584.33516</td>\n",
       "      <td>823678.42301</td>\n",
       "      <td>851508.9627</td>\n",
       "      <td>848510.48104</td>\n",
       "      <td>876104.51684</td>\n",
       "      <td>948498.14532</td>\n",
       "      <td>926673.83411</td>\n",
       "      <td>940537.50192</td>\n",
       "      <td>843218.92839</td>\n",
       "      <td>896600.654</td>\n",
       "    </tr>\n",
       "    <tr>\n",
       "      <th>2</th>\n",
       "      <td>Barking &amp; Dagenham</td>\n",
       "      <td>E09000002</td>\n",
       "      <td>50460.2266</td>\n",
       "      <td>51085.77983</td>\n",
       "      <td>51268.96956</td>\n",
       "      <td>53133.50526</td>\n",
       "      <td>53042.24852</td>\n",
       "      <td>53700.34831</td>\n",
       "      <td>52113.12157</td>\n",
       "      <td>52232.19868</td>\n",
       "      <td>...</td>\n",
       "      <td>344211.58225</td>\n",
       "      <td>349019.74947</td>\n",
       "      <td>350684.93126</td>\n",
       "      <td>350132.29415</td>\n",
       "      <td>351786.71213</td>\n",
       "      <td>355142.44959</td>\n",
       "      <td>355179.19508</td>\n",
       "      <td>351542.56074</td>\n",
       "      <td>344353.00525</td>\n",
       "      <td>346945.70957</td>\n",
       "    </tr>\n",
       "    <tr>\n",
       "      <th>3</th>\n",
       "      <td>Barnet</td>\n",
       "      <td>E09000003</td>\n",
       "      <td>93284.51832</td>\n",
       "      <td>93190.16963</td>\n",
       "      <td>92247.52435</td>\n",
       "      <td>90762.87492</td>\n",
       "      <td>90258.00033</td>\n",
       "      <td>90107.23471</td>\n",
       "      <td>91441.24768</td>\n",
       "      <td>92361.31512</td>\n",
       "      <td>...</td>\n",
       "      <td>587652.57456</td>\n",
       "      <td>589491.91507</td>\n",
       "      <td>600983.25425</td>\n",
       "      <td>605828.46908</td>\n",
       "      <td>605053.28709</td>\n",
       "      <td>596174.87369</td>\n",
       "      <td>601033.77667</td>\n",
       "      <td>603902.88471</td>\n",
       "      <td>608829.39401</td>\n",
       "      <td>598272.26714</td>\n",
       "    </tr>\n",
       "    <tr>\n",
       "      <th>4</th>\n",
       "      <td>Bexley</td>\n",
       "      <td>E09000004</td>\n",
       "      <td>64958.09036</td>\n",
       "      <td>64787.92069</td>\n",
       "      <td>64367.49344</td>\n",
       "      <td>64277.66881</td>\n",
       "      <td>63997.13588</td>\n",
       "      <td>64252.32335</td>\n",
       "      <td>63722.70055</td>\n",
       "      <td>64432.60005</td>\n",
       "      <td>...</td>\n",
       "      <td>388882.93861</td>\n",
       "      <td>394022.89593</td>\n",
       "      <td>400356.86436</td>\n",
       "      <td>402704.6993</td>\n",
       "      <td>407097.04931</td>\n",
       "      <td>405578.41451</td>\n",
       "      <td>406911.68217</td>\n",
       "      <td>399736.46196</td>\n",
       "      <td>400814.17362</td>\n",
       "      <td>403022.84703</td>\n",
       "    </tr>\n",
       "    <tr>\n",
       "      <th>5</th>\n",
       "      <td>Brent</td>\n",
       "      <td>E09000005</td>\n",
       "      <td>71306.56698</td>\n",
       "      <td>72022.26197</td>\n",
       "      <td>72015.76274</td>\n",
       "      <td>72965.63094</td>\n",
       "      <td>73704.04743</td>\n",
       "      <td>74310.48167</td>\n",
       "      <td>74127.03788</td>\n",
       "      <td>73547.0411</td>\n",
       "      <td>...</td>\n",
       "      <td>534878.8481</td>\n",
       "      <td>550730.29995</td>\n",
       "      <td>559692.69097</td>\n",
       "      <td>578082.6615</td>\n",
       "      <td>570146.90413</td>\n",
       "      <td>566137.79926</td>\n",
       "      <td>559407.13925</td>\n",
       "      <td>556501.11179</td>\n",
       "      <td>543974.33399</td>\n",
       "      <td>530399.91639</td>\n",
       "    </tr>\n",
       "  </tbody>\n",
       "</table>\n",
       "<p>5 rows × 341 columns</p>\n",
       "</div>"
      ],
      "text/plain": [
       "0             borough       Col1 1995-01-01 00:00:00 1995-02-01 00:00:00  \\\n",
       "1      City of London  E09000001         91448.98487         82202.77314   \n",
       "2  Barking & Dagenham  E09000002          50460.2266         51085.77983   \n",
       "3              Barnet  E09000003         93284.51832         93190.16963   \n",
       "4              Bexley  E09000004         64958.09036         64787.92069   \n",
       "5               Brent  E09000005         71306.56698         72022.26197   \n",
       "\n",
       "0 1995-03-01 00:00:00 1995-04-01 00:00:00 1995-05-01 00:00:00  \\\n",
       "1         79120.70256         77101.20804         84409.14932   \n",
       "2         51268.96956         53133.50526         53042.24852   \n",
       "3         92247.52435         90762.87492         90258.00033   \n",
       "4         64367.49344         64277.66881         63997.13588   \n",
       "5         72015.76274         72965.63094         73704.04743   \n",
       "\n",
       "0 1995-06-01 00:00:00 1995-07-01 00:00:00 1995-08-01 00:00:00  ...  \\\n",
       "1         94900.51244         110128.0423         112329.4376  ...   \n",
       "2         53700.34831         52113.12157         52232.19868  ...   \n",
       "3         90107.23471         91441.24768         92361.31512  ...   \n",
       "4         64252.32335         63722.70055         64432.60005  ...   \n",
       "5         74310.48167         74127.03788          73547.0411  ...   \n",
       "\n",
       "0 2022-06-01 00:00:00 2022-07-01 00:00:00 2022-08-01 00:00:00  \\\n",
       "1        817584.33516        823678.42301         851508.9627   \n",
       "2        344211.58225        349019.74947        350684.93126   \n",
       "3        587652.57456        589491.91507        600983.25425   \n",
       "4        388882.93861        394022.89593        400356.86436   \n",
       "5         534878.8481        550730.29995        559692.69097   \n",
       "\n",
       "0 2022-09-01 00:00:00 2022-10-01 00:00:00 2022-11-01 00:00:00  \\\n",
       "1        848510.48104        876104.51684        948498.14532   \n",
       "2        350132.29415        351786.71213        355142.44959   \n",
       "3        605828.46908        605053.28709        596174.87369   \n",
       "4         402704.6993        407097.04931        405578.41451   \n",
       "5         578082.6615        570146.90413        566137.79926   \n",
       "\n",
       "0 2022-12-01 00:00:00 2023-01-01 00:00:00 2023-02-01 00:00:00  \\\n",
       "1        926673.83411        940537.50192        843218.92839   \n",
       "2        355179.19508        351542.56074        344353.00525   \n",
       "3        601033.77667        603902.88471        608829.39401   \n",
       "4        406911.68217        399736.46196        400814.17362   \n",
       "5        559407.13925        556501.11179        543974.33399   \n",
       "\n",
       "0 2023-03-01 00:00:00  \n",
       "1          896600.654  \n",
       "2        346945.70957  \n",
       "3        598272.26714  \n",
       "4        403022.84703  \n",
       "5        530399.91639  \n",
       "\n",
       "[5 rows x 341 columns]"
      ]
     },
     "execution_count": 220,
     "metadata": {},
     "output_type": "execute_result"
    }
   ],
   "source": [
    "properties = properties.rename(columns={\"Unnamed: 0\": \"borough\", pd.NaT: \"Col1\"})\n",
    "properties.head()"
   ]
  },
  {
   "cell_type": "markdown",
   "metadata": {
    "colab_type": "text",
    "id": "jy8BzXHmoWEw"
   },
   "source": [
    "**2.4.Transforming the data**\n",
    "\n",
    "Remember what Wes McKinney said about tidy data? \n",
    "\n",
    "You might need to **melt** your DataFrame here. "
   ]
  },
  {
   "cell_type": "code",
   "execution_count": 221,
   "metadata": {
    "colab": {},
    "colab_type": "code",
    "id": "S2wM0qLuo2Zt"
   },
   "outputs": [
    {
     "data": {
      "text/plain": [
       "(48, 341)"
      ]
     },
     "execution_count": 221,
     "metadata": {},
     "output_type": "execute_result"
    }
   ],
   "source": [
    "properties.shape"
   ]
  },
  {
   "cell_type": "code",
   "execution_count": 222,
   "metadata": {},
   "outputs": [],
   "source": [
    "properties = pd.melt(properties,id_vars = [\"borough\",\"Col1\"], var_name = \"month\", value_name = \"average_price\")"
   ]
  },
  {
   "cell_type": "markdown",
   "metadata": {
    "colab_type": "text",
    "id": "7kIsgAo7o3mf"
   },
   "source": [
    "Remember to make sure your column data types are all correct. Average prices, for example, should be floating point numbers... "
   ]
  },
  {
   "cell_type": "code",
   "execution_count": 223,
   "metadata": {
    "collapsed": true
   },
   "outputs": [
    {
     "data": {
      "text/plain": [
       "borough\n",
       "Barking & Dagenham      178163.540488\n",
       "Barnet                  333603.513173\n",
       "Bexley                  209904.129846\n",
       "Brent                   298200.559504\n",
       "Bromley                 278398.440333\n",
       "Camden                  509679.904805\n",
       "City of London          470616.166795\n",
       "Croydon                 230634.134479\n",
       "EAST MIDLANDS           133095.306761\n",
       "EAST OF ENGLAND         188357.684286\n",
       "Ealing                  300690.992869\n",
       "Enfield                 246255.910320\n",
       "England                 167374.621049\n",
       "Greenwich               235439.506998\n",
       "Hackney                 321422.067604\n",
       "Hammersmith & Fulham    478540.066443\n",
       "Haringey                324796.474667\n",
       "Harrow                  293844.501313\n",
       "Havering                226644.339444\n",
       "Hillingdon              255998.786769\n",
       "Hounslow                257640.161879\n",
       "Inner London            347175.289277\n",
       "Islington               401383.280343\n",
       "Kensington & Chelsea    811736.823093\n",
       "Kingston upon Thames    308432.135560\n",
       "LONDON                  292737.939943\n",
       "Lambeth                 308398.142085\n",
       "Lewisham                241713.396688\n",
       "Merton                  311370.178418\n",
       "NORTH EAST              102481.175632\n",
       "NORTH WEST              118225.029761\n",
       "Newham                  217636.204090\n",
       "Outer London            263936.670715\n",
       "Redbridge               259546.846923\n",
       "Richmond upon Thames    420255.618784\n",
       "SOUTH EAST              214828.730692\n",
       "SOUTH WEST              178186.464260\n",
       "Southwark               303052.485213\n",
       "Sutton                  238600.344963\n",
       "Tower Hamlets           281287.260735\n",
       "Unnamed: 34                       NaN\n",
       "Unnamed: 37                       NaN\n",
       "Unnamed: 47                       NaN\n",
       "WEST MIDLANDS           138282.642034\n",
       "Waltham Forest          249442.564115\n",
       "Wandsworth              373536.086350\n",
       "Westminster             591659.683199\n",
       "YORKS & THE HUMBER      118062.726732\n",
       "Name: average_price, dtype: float64"
      ]
     },
     "execution_count": 223,
     "metadata": {},
     "output_type": "execute_result"
    }
   ],
   "source": [
    "properties.groupby('borough')[\"average_price\"].agg(np.mean) #Just testing the mean function and also seeing the list of boroughs"
   ]
  },
  {
   "cell_type": "code",
   "execution_count": 224,
   "metadata": {},
   "outputs": [],
   "source": [
    "properties.fillna(0,inplace=True)"
   ]
  },
  {
   "cell_type": "markdown",
   "metadata": {
    "colab_type": "text",
    "id": "knLUXHLypOtw"
   },
   "source": [
    "**2.5. Cleaning the data (part 3)**\n",
    "\n",
    "Do we have an equal number of observations in the ID, Average Price, Month, and London Borough columns? Remember that there are only 32 London Boroughs. How many entries do you have in that column? \n",
    "\n",
    "Check out the contents of the London Borough column, and if you find null values, get rid of them however you see fit. "
   ]
  },
  {
   "cell_type": "markdown",
   "metadata": {},
   "source": [
    "<Naman> For restricting data strictly to contain 32 borougs, I created a list for all 32 boroughs of London. This excludes City of London and anything other than the 32 boroughs listed in link provided in the original problem: https://en.wikipedia.org/wiki/London_boroughs\n",
    "    The  list is converted to uppercase for use in filtering of the properties  dataframe."
   ]
  },
  {
   "cell_type": "code",
   "execution_count": 226,
   "metadata": {},
   "outputs": [],
   "source": [
    "boroughs = ['Westminster', 'Kensington & Chelsea', 'Hammersmith & Fulham', 'Wandsworth', 'Lambeth',\n",
    "           'Southwark', 'Tower Hamlets', 'Hackney', 'Islington', 'Camden', 'Brent', 'Ealing','Hounslow', 'Richmond upon Thames',\n",
    "           'Kingston upon Thames', 'Merton', 'Sutton', 'Croydon', 'Bromley', 'Lewisham', 'Greenwich', 'Bexley',\n",
    "           'Havering', 'Barking & Dagenham',  'Redbridge', 'Newham', 'Waltham Forest', 'Haringey',\n",
    "           'Enfield', 'Barnet', 'Harrow',  'Hillingdon']\n",
    "boroughs = list(map(lambda x: x.upper(),boroughs ))"
   ]
  },
  {
   "cell_type": "code",
   "execution_count": 227,
   "metadata": {
    "collapsed": true
   },
   "outputs": [
    {
     "name": "stdout",
     "output_type": "stream",
     "text": [
      "['WESTMINSTER', 'KENSINGTON & CHELSEA', 'HAMMERSMITH & FULHAM', 'WANDSWORTH', 'LAMBETH', 'SOUTHWARK', 'TOWER HAMLETS', 'HACKNEY', 'ISLINGTON', 'CAMDEN', 'BRENT', 'EALING', 'HOUNSLOW', 'RICHMOND UPON THAMES', 'KINGSTON UPON THAMES', 'MERTON', 'SUTTON', 'CROYDON', 'BROMLEY', 'LEWISHAM', 'GREENWICH', 'BEXLEY', 'HAVERING', 'BARKING & DAGENHAM', 'REDBRIDGE', 'NEWHAM', 'WALTHAM FOREST', 'HARINGEY', 'ENFIELD', 'BARNET', 'HARROW', 'HILLINGDON']\n"
     ]
    }
   ],
   "source": [
    "print(boroughs)"
   ]
  },
  {
   "cell_type": "code",
   "execution_count": 228,
   "metadata": {},
   "outputs": [],
   "source": [
    "properties =  properties[properties['borough'].str.upper().isin(boroughs)]"
   ]
  },
  {
   "cell_type": "markdown",
   "metadata": {},
   "source": [
    "<Naman> The below code is just to test and make sure that we are getting exactly 32 observations returned, one for each borough, across the dataframe. Summarizing is a way to test we have desired number of boroughs in the dataset."
   ]
  },
  {
   "cell_type": "code",
   "execution_count": 229,
   "metadata": {
    "collapsed": true
   },
   "outputs": [
    {
     "data": {
      "text/plain": [
       "borough\n",
       "Barking & Dagenham      178163.540488\n",
       "Barnet                  333603.513173\n",
       "Bexley                  209904.129846\n",
       "Brent                   298200.559504\n",
       "Bromley                 278398.440333\n",
       "Camden                  509679.904805\n",
       "Croydon                 230634.134479\n",
       "Ealing                  300690.992869\n",
       "Enfield                 246255.910320\n",
       "Greenwich               235439.506998\n",
       "Hackney                 321422.067604\n",
       "Hammersmith & Fulham    478540.066443\n",
       "Haringey                324796.474667\n",
       "Harrow                  293844.501313\n",
       "Havering                226644.339444\n",
       "Hillingdon              255998.786769\n",
       "Hounslow                257640.161879\n",
       "Islington               401383.280343\n",
       "Kensington & Chelsea    811736.823093\n",
       "Kingston upon Thames    308432.135560\n",
       "Lambeth                 308398.142085\n",
       "Lewisham                241713.396688\n",
       "Merton                  311370.178418\n",
       "Newham                  217636.204090\n",
       "Redbridge               259546.846923\n",
       "Richmond upon Thames    420255.618784\n",
       "Southwark               303052.485213\n",
       "Sutton                  238600.344963\n",
       "Tower Hamlets           281287.260735\n",
       "Waltham Forest          249442.564115\n",
       "Wandsworth              373536.086350\n",
       "Westminster             591659.683199\n",
       "Name: average_price, dtype: float64"
      ]
     },
     "execution_count": 229,
     "metadata": {},
     "output_type": "execute_result"
    }
   ],
   "source": [
    "properties.groupby('borough')[\"average_price\"].agg(np.mean)"
   ]
  },
  {
   "cell_type": "markdown",
   "metadata": {
    "colab_type": "text",
    "id": "PGEx6mJsp6dG"
   },
   "source": [
    "**2.6. Visualizing the data**\n",
    "\n",
    "To visualize the data, why not subset on a particular London Borough? Maybe do a line plot of Month against Average Price?"
   ]
  },
  {
   "cell_type": "code",
   "execution_count": 230,
   "metadata": {
    "colab": {},
    "colab_type": "code",
    "id": "nAg5pT9cqHAR"
   },
   "outputs": [
    {
     "data": {
      "text/plain": [
       "<Axes: xlabel='month'>"
      ]
     },
     "execution_count": 230,
     "metadata": {},
     "output_type": "execute_result"
    },
    {
     "data": {
      "image/png": "[encoded data removed]",
      "text/plain": [
       "<Figure size 640x480 with 1 Axes>"
      ]
     },
     "metadata": {},
     "output_type": "display_data"
    }
   ],
   "source": [
    "properties[properties['borough'] == \"Hammersmith & Fulham\"].plot(kind = 'line', x = 'month', y = 'average_price')"
   ]
  },
  {
   "cell_type": "markdown",
   "metadata": {
    "colab_type": "text",
    "id": "aWTPqSJeqHnC"
   },
   "source": [
    "To limit the number of data points you have, you might want to extract the year from every month value your *Month* column. \n",
    "\n",
    "To this end, you *could* apply a ***lambda function***. Your logic could work as follows:\n",
    "1. look through the `Month` column\n",
    "2. extract the year from each individual value in that column \n",
    "3. store that corresponding year as separate column. \n",
    "\n",
    "Whether you go ahead with this is up to you. Just so long as you answer our initial brief: which boroughs of London have seen the greatest house price increase, on average, over the past two decades? "
   ]
  },
  {
   "cell_type": "code",
   "execution_count": 235,
   "metadata": {
    "colab": {},
    "colab_type": "code",
    "id": "e0DF92cyqnu8"
   },
   "outputs": [],
   "source": [
    "properties[\"year\"] =  properties['month'].dt.year"
   ]
  },
  {
   "cell_type": "code",
   "execution_count": 236,
   "metadata": {},
   "outputs": [
    {
     "name": "stdout",
     "output_type": "stream",
     "text": [
      "              borough       Col1      month  average_price  year\n",
      "1  Barking & Dagenham  E09000002 1995-01-01    50460.22660  1995\n",
      "2              Barnet  E09000003 1995-01-01    93284.51832  1995\n",
      "3              Bexley  E09000004 1995-01-01    64958.09036  1995\n",
      "4               Brent  E09000005 1995-01-01    71306.56698  1995\n",
      "5             Bromley  E09000006 1995-01-01    81671.47692  1995\n"
     ]
    }
   ],
   "source": [
    "print(properties.head())"
   ]
  },
  {
   "cell_type": "markdown",
   "metadata": {
    "colab_type": "text",
    "id": "2knuTxAEqoJ4"
   },
   "source": [
    "**3. Modeling**\n",
    "\n",
    "Consider creating a function that will calculate a ratio of house prices, comparing the price of a house in 2018 to the price in 1998.\n",
    "\n",
    "Consider calling this function create_price_ratio.\n",
    "\n",
    "You'd want this function to:\n",
    "1. Take a filter of dfg, specifically where this filter constrains the London_Borough, as an argument. For example, one admissible argument should be: dfg[dfg['London_Borough']=='Camden'].\n",
    "2. Get the Average Price for that Borough, for the years 1998 and 2018.\n",
    "4. Calculate the ratio of the Average Price for 1998 divided by the Average Price for 2018.\n",
    "5. Return that ratio.\n",
    "\n",
    "Once you've written this function, you ultimately want to use it to iterate through all the unique London_Boroughs and work out the ratio capturing the difference of house prices between 1998 and 2018.\n",
    "\n",
    "Bear in mind: you don't have to write a function like this if you don't want to. If you can solve the brief otherwise, then great! \n",
    "\n",
    "***Hint***: This section should test the skills you acquired in:\n",
    "- Python Data Science Toolbox - Part One, all modules"
   ]
  },
  {
   "cell_type": "code",
   "execution_count": 242,
   "metadata": {
    "colab": {},
    "colab_type": "code",
    "id": "cKTyr437UgDa"
   },
   "outputs": [],
   "source": [
    "properties_by_year = pd.DataFrame(properties.groupby([\"borough\",\"year\"])[\"average_price\"].agg(np.mean))"
   ]
  },
  {
   "cell_type": "code",
   "execution_count": 250,
   "metadata": {
    "collapsed": true
   },
   "outputs": [
    {
     "name": "stdout",
     "output_type": "stream",
     "text": [
      "                         average_price\n",
      "borough            year               \n",
      "Barking & Dagenham 1995   5.181797e+04\n",
      "                   1996   5.171819e+04\n",
      "                   1997   5.597426e+04\n",
      "                   1998   6.028582e+04\n",
      "                   1999   6.532093e+04\n",
      "...                                ...\n",
      "Westminster        2019   9.559986e+05\n",
      "                   2020   9.604692e+05\n",
      "                   2021   9.627774e+05\n",
      "                   2022   1.005779e+06\n",
      "                   2023   9.224570e+05\n",
      "\n",
      "[928 rows x 1 columns]\n"
     ]
    }
   ],
   "source": [
    "print(properties_by_year)"
   ]
  },
  {
   "cell_type": "code",
   "execution_count": 259,
   "metadata": {},
   "outputs": [],
   "source": [
    "properties_by_year.reset_index(inplace = True)"
   ]
  },
  {
   "cell_type": "code",
   "execution_count": 277,
   "metadata": {
    "collapsed": true
   },
   "outputs": [
    {
     "name": "stdout",
     "output_type": "stream",
     "text": [
      "<class 'pandas.core.frame.DataFrame'>\n",
      "RangeIndex: 928 entries, 0 to 927\n",
      "Data columns (total 4 columns):\n",
      " #   Column         Non-Null Count  Dtype  \n",
      "---  ------         --------------  -----  \n",
      " 0   index          928 non-null    int64  \n",
      " 1   borough        928 non-null    object \n",
      " 2   year           928 non-null    int64  \n",
      " 3   average_price  928 non-null    float64\n",
      "dtypes: float64(1), int64(2), object(1)\n",
      "memory usage: 29.1+ KB\n"
     ]
    }
   ],
   "source": [
    "properties_by_year.info()"
   ]
  },
  {
   "cell_type": "code",
   "execution_count": 278,
   "metadata": {},
   "outputs": [],
   "source": [
    "properties_ratio = properties_by_year[(properties_by_year['year'] == 1998) | (properties_by_year['year'] == 2018)]"
   ]
  },
  {
   "cell_type": "code",
   "execution_count": 281,
   "metadata": {
    "collapsed": true
   },
   "outputs": [
    {
     "name": "stdout",
     "output_type": "stream",
     "text": [
      "    index_1998               borough  year_1998  average_price_1998  \\\n",
      "0            3    Barking & Dagenham       1998        60285.821083   \n",
      "1           32                Barnet       1998       122359.468033   \n",
      "2           61                Bexley       1998        80632.020822   \n",
      "3           90                 Brent       1998       100692.590417   \n",
      "4          119               Bromley       1998       108286.520467   \n",
      "5          148                Camden       1998       170688.973933   \n",
      "6          177               Croydon       1998        88143.228830   \n",
      "7          206                Ealing       1998       111343.154650   \n",
      "8          235               Enfield       1998        93030.224322   \n",
      "9          264             Greenwich       1998        81532.933366   \n",
      "10         293               Hackney       1998        87869.535804   \n",
      "11         322  Hammersmith & Fulham       1998       175340.921250   \n",
      "12         351              Haringey       1998       107419.850108   \n",
      "13         380                Harrow       1998       114778.250067   \n",
      "14         409              Havering       1998        85602.087978   \n",
      "15         438            Hillingdon       1998        97676.048952   \n",
      "16         467              Hounslow       1998        99746.069682   \n",
      "17         496             Islington       1998       134148.973300   \n",
      "18         525  Kensington & Chelsea       1998       268350.122142   \n",
      "19         554  Kingston upon Thames       1998       116399.769158   \n",
      "20         583               Lambeth       1998       103179.118943   \n",
      "21         612              Lewisham       1998        75539.051649   \n",
      "22         641                Merton       1998       108049.855117   \n",
      "23         670                Newham       1998        67671.270763   \n",
      "24         699             Redbridge       1998        94514.395822   \n",
      "25         728  Richmond upon Thames       1998       162956.066025   \n",
      "26         757             Southwark       1998        91405.187779   \n",
      "27         786                Sutton       1998        92087.045921   \n",
      "28         815         Tower Hamlets       1998        96505.166407   \n",
      "29         844        Waltham Forest       1998        75557.474132   \n",
      "30         873            Wandsworth       1998       125406.807233   \n",
      "31         902           Westminster       1998       190531.949942   \n",
      "\n",
      "    index_2018  year_2018  average_price_2018  \n",
      "0           23       2018        2.951967e+05  \n",
      "1           52       2018        5.332665e+05  \n",
      "2           81       2018        3.426036e+05  \n",
      "3          110       2018        4.928454e+05  \n",
      "4          139       2018        4.434100e+05  \n",
      "5          168       2018        8.424104e+05  \n",
      "6          197       2018        3.702985e+05  \n",
      "7          226       2018        4.800505e+05  \n",
      "8          255       2018        3.966317e+05  \n",
      "9          284       2018        3.883443e+05  \n",
      "10         313       2018        5.446405e+05  \n",
      "11         342       2018        7.255253e+05  \n",
      "12         371       2018        5.515606e+05  \n",
      "13         400       2018        4.659075e+05  \n",
      "14         429       2018        3.702488e+05  \n",
      "15         458       2018        4.102661e+05  \n",
      "16         487       2018        3.966312e+05  \n",
      "17         516       2018        6.498241e+05  \n",
      "18         545       2018        1.363880e+06  \n",
      "19         574       2018        4.970910e+05  \n",
      "20         603       2018        5.115364e+05  \n",
      "21         632       2018        4.116290e+05  \n",
      "22         661       2018        5.122939e+05  \n",
      "23         690       2018        3.590225e+05  \n",
      "24         719       2018        4.225911e+05  \n",
      "25         748       2018        6.526654e+05  \n",
      "26         777       2018        5.042354e+05  \n",
      "27         806       2018        3.792626e+05  \n",
      "28         835       2018        4.465006e+05  \n",
      "29         864       2018        4.408594e+05  \n",
      "30         893       2018        5.966491e+05  \n",
      "31         922       2018        1.020025e+06  \n",
      "<class 'pandas.core.frame.DataFrame'>\n",
      "Int64Index: 32 entries, 0 to 31\n",
      "Data columns (total 7 columns):\n",
      " #   Column              Non-Null Count  Dtype  \n",
      "---  ------              --------------  -----  \n",
      " 0   index_1998          32 non-null     int64  \n",
      " 1   borough             32 non-null     object \n",
      " 2   year_1998           32 non-null     int64  \n",
      " 3   average_price_1998  32 non-null     float64\n",
      " 4   index_2018          32 non-null     int64  \n",
      " 5   year_2018           32 non-null     int64  \n",
      " 6   average_price_2018  32 non-null     float64\n",
      "dtypes: float64(2), int64(4), object(1)\n",
      "memory usage: 2.0+ KB\n",
      "None\n"
     ]
    }
   ],
   "source": [
    "print(properties_ratio)\n",
    "print(properties_ratio.info())"
   ]
  },
  {
   "cell_type": "code",
   "execution_count": 280,
   "metadata": {},
   "outputs": [],
   "source": [
    "properties_ratio = properties_ratio[properties_ratio['year'] == 1998].merge(properties_ratio[properties_ratio['year'] == 2018],\n",
    "                    on = 'borough', how = 'inner', suffixes = ('_1998', '_2018'))"
   ]
  },
  {
   "cell_type": "code",
   "execution_count": 283,
   "metadata": {},
   "outputs": [],
   "source": [
    "properties_ratio = properties_ratio[['borough','average_price_1998','average_price_2018']]"
   ]
  },
  {
   "cell_type": "code",
   "execution_count": 284,
   "metadata": {
    "collapsed": true
   },
   "outputs": [
    {
     "name": "stdout",
     "output_type": "stream",
     "text": [
      "                 borough  average_price_1998  average_price_2018\n",
      "0     Barking & Dagenham        60285.821083        2.951967e+05\n",
      "1                 Barnet       122359.468033        5.332665e+05\n",
      "2                 Bexley        80632.020822        3.426036e+05\n",
      "3                  Brent       100692.590417        4.928454e+05\n",
      "4                Bromley       108286.520467        4.434100e+05\n",
      "5                 Camden       170688.973933        8.424104e+05\n",
      "6                Croydon        88143.228830        3.702985e+05\n",
      "7                 Ealing       111343.154650        4.800505e+05\n",
      "8                Enfield        93030.224322        3.966317e+05\n",
      "9              Greenwich        81532.933366        3.883443e+05\n",
      "10               Hackney        87869.535804        5.446405e+05\n",
      "11  Hammersmith & Fulham       175340.921250        7.255253e+05\n",
      "12              Haringey       107419.850108        5.515606e+05\n",
      "13                Harrow       114778.250067        4.659075e+05\n",
      "14              Havering        85602.087978        3.702488e+05\n",
      "15            Hillingdon        97676.048952        4.102661e+05\n",
      "16              Hounslow        99746.069682        3.966312e+05\n",
      "17             Islington       134148.973300        6.498241e+05\n",
      "18  Kensington & Chelsea       268350.122142        1.363880e+06\n",
      "19  Kingston upon Thames       116399.769158        4.970910e+05\n",
      "20               Lambeth       103179.118943        5.115364e+05\n",
      "21              Lewisham        75539.051649        4.116290e+05\n",
      "22                Merton       108049.855117        5.122939e+05\n",
      "23                Newham        67671.270763        3.590225e+05\n",
      "24             Redbridge        94514.395822        4.225911e+05\n",
      "25  Richmond upon Thames       162956.066025        6.526654e+05\n",
      "26             Southwark        91405.187779        5.042354e+05\n",
      "27                Sutton        92087.045921        3.792626e+05\n",
      "28         Tower Hamlets        96505.166407        4.465006e+05\n",
      "29        Waltham Forest        75557.474132        4.408594e+05\n",
      "30            Wandsworth       125406.807233        5.966491e+05\n",
      "31           Westminster       190531.949942        1.020025e+06\n"
     ]
    }
   ],
   "source": [
    "print(properties_ratio)"
   ]
  },
  {
   "cell_type": "code",
   "execution_count": 288,
   "metadata": {},
   "outputs": [],
   "source": [
    "properties_ratio['price_ratio']   = properties_ratio['average_price_2018']/properties_ratio['average_price_1998']"
   ]
  },
  {
   "cell_type": "code",
   "execution_count": 289,
   "metadata": {},
   "outputs": [],
   "source": [
    "properties_ratio.sort_values('price_ratio', ascending = False, inplace = True)"
   ]
  },
  {
   "cell_type": "code",
   "execution_count": 290,
   "metadata": {},
   "outputs": [
    {
     "name": "stdout",
     "output_type": "stream",
     "text": [
      "                 borough  average_price_1998  average_price_2018  price_ratio\n",
      "10               Hackney        87869.535804        5.446405e+05     6.198286\n",
      "29        Waltham Forest        75557.474132        4.408594e+05     5.834756\n",
      "26             Southwark        91405.187779        5.042354e+05     5.516485\n",
      "21              Lewisham        75539.051649        4.116290e+05     5.449221\n",
      "31           Westminster       190531.949942        1.020025e+06     5.353565\n",
      "23                Newham        67671.270763        3.590225e+05     5.305390\n",
      "12              Haringey       107419.850108        5.515606e+05     5.134625\n",
      "18  Kensington & Chelsea       268350.122142        1.363880e+06     5.082465\n",
      "20               Lambeth       103179.118943        5.115364e+05     4.957751\n",
      "5                 Camden       170688.973933        8.424104e+05     4.935353\n",
      "0     Barking & Dagenham        60285.821083        2.951967e+05     4.896619\n",
      "3                  Brent       100692.590417        4.928454e+05     4.894554\n",
      "17             Islington       134148.973300        6.498241e+05     4.844048\n",
      "9              Greenwich        81532.933366        3.883443e+05     4.763036\n",
      "30            Wandsworth       125406.807233        5.966491e+05     4.757709\n",
      "22                Merton       108049.855117        5.122939e+05     4.741273\n",
      "28         Tower Hamlets        96505.166407        4.465006e+05     4.626701\n",
      "24             Redbridge        94514.395822        4.225911e+05     4.471182\n",
      "1                 Barnet       122359.468033        5.332665e+05     4.358196\n",
      "14              Havering        85602.087978        3.702488e+05     4.325230\n",
      "7                 Ealing       111343.154650        4.800505e+05     4.311451\n",
      "19  Kingston upon Thames       116399.769158        4.970910e+05     4.270550\n",
      "8                Enfield        93030.224322        3.966317e+05     4.263472\n",
      "2                 Bexley        80632.020822        3.426036e+05     4.248977\n",
      "6                Croydon        88143.228830        3.702985e+05     4.201100\n",
      "15            Hillingdon        97676.048952        4.102661e+05     4.200273\n",
      "11  Hammersmith & Fulham       175340.921250        7.255253e+05     4.137798\n",
      "27                Sutton        92087.045921        3.792626e+05     4.118523\n",
      "4                Bromley       108286.520467        4.434100e+05     4.094785\n",
      "13                Harrow       114778.250067        4.659075e+05     4.059196\n",
      "25  Richmond upon Thames       162956.066025        6.526654e+05     4.005162\n",
      "16              Hounslow        99746.069682        3.966312e+05     3.976409\n"
     ]
    }
   ],
   "source": [
    "print(properties_ratio)"
   ]
  },
  {
   "cell_type": "code",
   "execution_count": 295,
   "metadata": {},
   "outputs": [
    {
     "data": {
      "text/plain": [
       "<Axes: xlabel='borough'>"
      ]
     },
     "execution_count": 295,
     "metadata": {},
     "output_type": "execute_result"
    },
    {
     "data": {
      "image/png": "[encoded data removed]",
      "text/plain": [
       "<Figure size 640x480 with 1 Axes>"
      ]
     },
     "metadata": {},
     "output_type": "display_data"
    }
   ],
   "source": [
    "properties_ratio.plot(kind  = 'bar', x  =  'borough',  y = 'price_ratio', label = 'Average house price change ratio between 1998 and 2018')"
   ]
  },
  {
   "cell_type": "markdown",
   "metadata": {
    "colab_type": "text",
    "id": "NzYUI7FxJpgv"
   },
   "source": [
    "### 4. Conclusion\n",
    "What can you conclude? Type out your conclusion below. \n",
    "\n",
    "Look back at your notebook. Think about how you might summarize what you have done, and prepare a quick presentation on it to your mentor at your next meeting. \n",
    "\n",
    "We hope you enjoyed this practical project. It should have consolidated your data hygiene and pandas skills by looking at a real-world problem involving just the kind of dataset you might encounter as a budding data scientist. Congratulations, and looking forward to seeing you at the next step in the course! "
   ]
  },
  {
   "cell_type": "markdown",
   "metadata": {},
   "source": [
    "Below is the explanation of the approach I followed - \n",
    "1. I followed the originally recommended steps to transpose the dataset. \n",
    "Then add columns for month and year, and melt the data to break it down by year.\n",
    "2. Then I applied cleaning by creating a list of borrows and performing a case-insentive comparison to \n",
    "only consider the observations that are for the 32 boroughs of London.\n",
    "3. I added a column for 'year' extracting just the year for each observation.\n",
    "4. I then extracted the per borough, per year average home price into a new dataframe called properties_by_year\n",
    "5. I filtered only the observations for 1998 and 2018 since those are our requirements to compare the price changes,\n",
    "I created properties_ratio dataframe to store these.\n",
    "6. I  then used a self-join to have the 1998 and 2018 yearly average price for each borough side-by-side.\n",
    "7. I calculate the ratio of price change as average_price_2018/average_price_1998 and stored that in a new variable called \n",
    "price_ratio.\n",
    "8. I plotted this on a bar chart to show the price changes by each borough.\n",
    "Conclusion - Hackney has the highest change in price_ratio of 6.198286. That is, between 1998 and 2018, the average house \n",
    "prices have gone up by more than 6 times."
   ]
  },
  {
   "cell_type": "code",
   "execution_count": 298,
   "metadata": {},
   "outputs": [
    {
     "data": {
      "text/plain": [
       "<Axes: xlabel='borough'>"
      ]
     },
     "execution_count": 298,
     "metadata": {},
     "output_type": "execute_result"
    },
    {
     "data": {
      "image/png": "[encoded data removed]",
      "text/plain": [
       "<Figure size 640x480 with 1 Axes>"
      ]
     },
     "metadata": {},
     "output_type": "display_data"
    }
   ],
   "source": [
    "properties_ratio.sort_values('average_price_2018', ascending = False).plot(kind  = 'bar', x  =  'borough', y = ['average_price_2018','average_price_1998'])"
   ]
  },
  {
   "cell_type": "code",
   "execution_count": null,
   "metadata": {},
   "outputs": [],
   "source": []
  }
 ],
 "metadata": {
  "colab": {
   "collapsed_sections": [],
   "name": "Springboard Data Science Career Track Unit 4 Challenge - Tier 3 Complete .ipynb",
   "provenance": []
  },
  "kernelspec": {
   "display_name": "Python 3 (ipykernel)",
   "language": "python",
   "name": "python3"
  },
  "language_info": {
   "codemirror_mode": {
    "name": "ipython",
    "version": 3
   },
   "file_extension": ".py",
   "mimetype": "text/x-python",
   "name": "python",
   "nbconvert_exporter": "python",
   "pygments_lexer": "ipython3",
   "version": "3.10.9"
  }
 },
 "nbformat": 4,
 "nbformat_minor": 1
}
